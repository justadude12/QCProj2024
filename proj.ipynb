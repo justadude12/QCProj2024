{
 "cells": [
  {
   "cell_type": "markdown",
   "metadata": {},
   "source": [
    "***Question 0:***\n",
    "\n",
    "The function given to us in the assignment can be strongly reduced. We can notice by expanding the first part of the function, $(\\bar x_0 \\lor x_1) \\land (x_0 \\lor x_1 \\lor \\bar x_2)$, that this part is a tautology, which means for the logic meaning we do not need to be interested by this part, and therefor the 2 first parentheses can be eliminated. By now step by step, (a screenshot of the calculation is attached in the next cell), we find that the function is logically equivalent to $$f(x_0, x_1, x_2, x_3, x_4) = (\\bar x_1 \\land \\bar x_2 \\land x_3 \\land \\bar x_4) \\lor (\\bar x_0 \\land \\bar x_2 \\land x_3 \\land \\bar x_4)$$\n",
    "\n",
    "\n",
    "The function takes value 1 for the following 3 inputs : $(0, 0, 0, 1, 0), (0, 1, 0, 1, 0), (1, 1, 0, 1, 0)$"
   ]
  },
  {
   "cell_type": "markdown",
   "metadata": {},
   "source": [
    "Small mistake where the first two were actually oversimplified, and an $x_0$ remains, which goes into the second parenthesis, as is already seen in the formula above\n",
    "![The reasoning for Q0](q0.jpeg.png)\n",
    "\n"
   ]
  },
  {
   "cell_type": "markdown",
   "metadata": {},
   "source": [
    "***Question 1:***\n"
   ]
  },
  {
   "cell_type": "code",
   "execution_count": 14,
   "metadata": {},
   "outputs": [
    {
     "data": {
      "image/png": "[encoded data removed]",
      "text/plain": [
       "<Figure size 202.683x535.111 with 1 Axes>"
      ]
     },
     "execution_count": 14,
     "metadata": {},
     "output_type": "execute_result"
    }
   ],
   "source": [
    "from qiskit import QuantumRegister, ClassicalRegister, QuantumCircuit\n",
    "from numpy import pi\n",
    "\n",
    "qreg_x = QuantumRegister(5, 'x')\n",
    "qreg_y = QuantumRegister(1, 'y')\n",
    "circuit = QuantumCircuit(qreg_x, qreg_y)\n",
    "\n",
    "circuit.h(qreg_x[0])\n",
    "circuit.h(qreg_x[1])\n",
    "circuit.h(qreg_x[2])\n",
    "circuit.h(qreg_x[3])\n",
    "circuit.h(qreg_x[4])\n",
    "circuit.h(qreg_y[0])\n",
    "circuit.draw('mpl')"
   ]
  },
  {
   "cell_type": "markdown",
   "metadata": {},
   "source": [
    "***Question 2:***"
   ]
  },
  {
   "cell_type": "code",
   "execution_count": null,
   "metadata": {},
   "outputs": [],
   "source": []
  },
  {
   "cell_type": "markdown",
   "metadata": {},
   "source": [
    "***Question 3:***\n"
   ]
  },
  {
   "cell_type": "code",
   "execution_count": null,
   "metadata": {},
   "outputs": [],
   "source": []
  },
  {
   "cell_type": "markdown",
   "metadata": {},
   "source": [
    "***Question 4:***\n"
   ]
  },
  {
   "cell_type": "code",
   "execution_count": null,
   "metadata": {},
   "outputs": [],
   "source": []
  },
  {
   "cell_type": "markdown",
   "metadata": {},
   "source": [
    "***Question 5:***"
   ]
  },
  {
   "cell_type": "markdown",
   "metadata": {},
   "source": []
  }
 ],
 "metadata": {
  "kernelspec": {
   "display_name": "Python 3",
   "language": "python",
   "name": "python3"
  },
  "language_info": {
   "codemirror_mode": {
    "name": "ipython",
    "version": 3
   },
   "file_extension": ".py",
   "mimetype": "text/x-python",
   "name": "python",
   "nbconvert_exporter": "python",
   "pygments_lexer": "ipython3",
   "version": "3.11.6"
  }
 },
 "nbformat": 4,
 "nbformat_minor": 2
}
